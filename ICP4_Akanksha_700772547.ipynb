{
 "cells": [
  {
   "cell_type": "code",
   "execution_count": 2,
   "id": "d465a5d1-4932-4e5c-9b50-409d8f97e4a4",
   "metadata": {},
   "outputs": [
    {
     "name": "stdout",
     "output_type": "stream",
     "text": [
      "   ID     Value Category\n",
      "0   1  0.333480        A\n",
      "1   2  0.990562        B\n",
      "2   3  0.962926        A\n",
      "3   4  0.595619        A\n",
      "4   5  0.734873        B\n"
     ]
    }
   ],
   "source": [
    "# Import necessary libraries\n",
    "import numpy as np\n",
    "import pandas as pd\n",
    "\n",
    "# Creating a dictionary with 1 million rows of simulated data\n",
    "data = {\n",
    "    'ID': np.arange(1, 1000001),  # Generating IDs from 1 to 1,000,000\n",
    "    'Value': np.random.rand(1000000),  # Generating 1 million random float values between 0 and 1\n",
    "    'Category': np.random.choice(['A', 'B', 'C', 'D'], size=1000000)  # Assigning random categories to each row\n",
    "}\n",
    "\n",
    "# Converting the dictionary into a pandas DataFrame\n",
    "df = pd.DataFrame(data)\n",
    "\n",
    "# Displaying the first 5 rows of the DataFrame\n",
    "print(df.head())\n",
    "\n"
   ]
  },
  {
   "cell_type": "code",
   "execution_count": 3,
   "id": "c70f9267-7bd8-40cf-816e-678e68acbf3f",
   "metadata": {},
   "outputs": [
    {
     "name": "stdout",
     "output_type": "stream",
     "text": [
      "   ID     Value Category\n",
      "0   1  0.333480        A\n",
      "1   2  0.990562        B\n",
      "2   3  0.962926        A\n",
      "3   4  0.595619        A\n",
      "4   5  0.734873        B\n",
      "5   6  0.053881        B\n",
      "6   7  0.035621        A\n",
      "7   8  0.057531        B\n",
      "8   9  0.935413        D\n",
      "9  10  0.675133        A\n"
     ]
    }
   ],
   "source": [
    "# Output the first 10 rows of the DataFrame\n",
    "print(df.head(10))\n"
   ]
  },
  {
   "cell_type": "code",
   "execution_count": 4,
   "id": "a5ff37ff-a993-48ed-9f6e-3d253e1ed2d4",
   "metadata": {},
   "outputs": [
    {
     "name": "stdout",
     "output_type": "stream",
     "text": [
      "0    0.333480\n",
      "1    0.990562\n",
      "2    0.962926\n",
      "3    0.595619\n",
      "4    0.734873\n",
      "Name: Value, dtype: float64\n"
     ]
    }
   ],
   "source": [
    "# Access the 'Value' column from the DataFrame\n",
    "value_column = df['Value']\n",
    "\n",
    "# Display the first 5 values (optional, for checking)\n",
    "print(value_column.head())\n"
   ]
  },
  {
   "cell_type": "code",
   "execution_count": 5,
   "id": "57146c2c-868b-469d-9ef3-bed54910ac6f",
   "metadata": {},
   "outputs": [
    {
     "name": "stdout",
     "output_type": "stream",
     "text": [
      "   ID number  Random value Choice\n",
      "0          1      0.333480      A\n",
      "1          2      0.990562      B\n",
      "2          3      0.962926      A\n",
      "3          4      0.595619      A\n",
      "4          5      0.734873      B\n"
     ]
    }
   ],
   "source": [
    "# Rename the columns in the DataFrame\n",
    "df.columns = ['ID number', 'Random value', 'Choice']\n",
    "\n",
    "# Display the first 5 rows after renaming\n",
    "print(df.head())\n"
   ]
  },
  {
   "cell_type": "code",
   "execution_count": 6,
   "id": "db53fe8b-c89e-4986-99eb-a09c8fd3aa95",
   "metadata": {},
   "outputs": [
    {
     "name": "stdout",
     "output_type": "stream",
     "text": [
      "Original DataFrame:\n",
      "   school_code class            name date_Of_Birth  age  height  weight  \\\n",
      "S1        s001     V  Alberto Franco    15/05/2002   12     173      35   \n",
      "S2        s002     V    Gino Mcneill    17/05/2002   12     192      32   \n",
      "S3        s003    VI     Ryan Parkes    16/02/1999   13     186      33   \n",
      "S4        s001     V    Eesha Hinton    25/09/1998   13     167      30   \n",
      "S5        s002    VI    Gino Mcneill    11/05/2002   14     151      31   \n",
      "S6        s004    VI    David Parkes    15/09/1997   12     159      32   \n",
      "\n",
      "    address  \n",
      "S1  street1  \n",
      "S2  street2  \n",
      "S3  street3  \n",
      "S4  street1  \n",
      "S5  street2  \n",
      "S6  street4  \n",
      "\n",
      "Split the said data on school_code, class wise:\n",
      "\n",
      "Group:\n",
      "('s001', 'V')\n",
      "   school_code class            name date_Of_Birth  age  height  weight  \\\n",
      "S1        s001     V  Alberto Franco    15/05/2002   12     173      35   \n",
      "S4        s001     V    Eesha Hinton    25/09/1998   13     167      30   \n",
      "\n",
      "    address  \n",
      "S1  street1  \n",
      "S4  street1  \n",
      "\n",
      "Group:\n",
      "('s002', 'V')\n",
      "   school_code class          name date_Of_Birth  age  height  weight  address\n",
      "S2        s002     V  Gino Mcneill    17/05/2002   12     192      32  street2\n",
      "\n",
      "Group:\n",
      "('s002', 'VI')\n",
      "   school_code class          name date_Of_Birth  age  height  weight  address\n",
      "S5        s002    VI  Gino Mcneill    11/05/2002   14     151      31  street2\n",
      "\n",
      "Group:\n",
      "('s003', 'VI')\n",
      "   school_code class         name date_Of_Birth  age  height  weight  address\n",
      "S3        s003    VI  Ryan Parkes    16/02/1999   13     186      33  street3\n",
      "\n",
      "Group:\n",
      "('s004', 'VI')\n",
      "   school_code class          name date_Of_Birth  age  height  weight  address\n",
      "S6        s004    VI  David Parkes    15/09/1997   12     159      32  street4\n"
     ]
    }
   ],
   "source": [
    "import pandas as pd\n",
    "\n",
    "# Optional display settings\n",
    "pd.set_option('display.max_rows', None)\n",
    "# pd.set_option('display.max_columns', None)\n",
    "\n",
    "# Fixes:\n",
    "# 1. Corrected inconsistent string quoting\n",
    "# 2. Fixed the missing comma between 'address' key and value\n",
    "# 3. Fixed invalid VI string (make all strings consistent)\n",
    "\n",
    "student_data = pd.DataFrame({\n",
    "    'school_code': ['s001', 's002', 's003', 's001', 's002', 's004'],\n",
    "    'class': ['V', 'V', 'VI', 'V', 'VI', 'VI'],\n",
    "    'name': ['Alberto Franco', 'Gino Mcneill', 'Ryan Parkes', 'Eesha Hinton', 'Gino Mcneill', 'David Parkes'],\n",
    "    'date_Of_Birth': ['15/05/2002', '17/05/2002', '16/02/1999', '25/09/1998', '11/05/2002', '15/09/1997'],\n",
    "    'age': [12, 12, 13, 13, 14, 12],\n",
    "    'height': [173, 192, 186, 167, 151, 159],\n",
    "    'weight': [35, 32, 33, 30, 31, 32],\n",
    "    'address': ['street1', 'street2', 'street3', 'street1', 'street2', 'street4']\n",
    "}, index=['S1', 'S2', 'S3', 'S4', 'S5', 'S6'])\n",
    "\n",
    "print(\"Original DataFrame:\")\n",
    "print(student_data)\n",
    "\n",
    "print('\\nSplit the said data on school_code, class wise:')\n",
    "result = student_data.groupby(['school_code', 'class'])\n",
    "\n",
    "for name, group in result:\n",
    "    print(\"\\nGroup:\")\n",
    "    print(name)\n",
    "    print(group)\n"
   ]
  },
  {
   "cell_type": "code",
   "execution_count": 8,
   "id": "c759ef70-deb3-465d-b5d0-7ea1d2970206",
   "metadata": {},
   "outputs": [
    {
     "name": "stdout",
     "output_type": "stream",
     "text": [
      "   Duration  Pulse  Maxpulse  Calories\n",
      "0        60    110       130     409.1\n",
      "1        60    117       145     479.0\n",
      "2        60    103       135     340.0\n",
      "3        45    109       175     282.4\n",
      "4        45    117       148     406.0\n"
     ]
    }
   ],
   "source": [
    "import pandas as pd\n",
    "\n",
    "# Read the CSV file from local path (after downloading it)\n",
    "df = pd.read_csv('/Users/akanksharasaputhra/Downloads/data.csv')\n",
    "\n",
    "# Display the first 5 rows\n",
    "print(df.head())\n"
   ]
  },
  {
   "cell_type": "code",
   "execution_count": 9,
   "id": "55d6dad0-c282-412b-9ef8-9758ea3d293c",
   "metadata": {},
   "outputs": [
    {
     "name": "stdout",
     "output_type": "stream",
     "text": [
      "         Duration       Pulse    Maxpulse     Calories\n",
      "count  169.000000  169.000000  169.000000   164.000000\n",
      "mean    63.846154  107.461538  134.047337   375.790244\n",
      "std     42.299949   14.510259   16.450434   266.379919\n",
      "min     15.000000   80.000000  100.000000    50.300000\n",
      "25%     45.000000  100.000000  124.000000   250.925000\n",
      "50%     60.000000  105.000000  131.000000   318.600000\n",
      "75%     60.000000  111.000000  141.000000   387.600000\n",
      "max    300.000000  159.000000  184.000000  1860.400000\n"
     ]
    }
   ],
   "source": [
    "# Show basic statistical description of the dataset\n",
    "print(df.describe())\n"
   ]
  },
  {
   "cell_type": "code",
   "execution_count": 10,
   "id": "3b03ebb2-fbe2-4a91-9695-9417a6a8d0c8",
   "metadata": {},
   "outputs": [
    {
     "name": "stdout",
     "output_type": "stream",
     "text": [
      "Null values in each column:\n",
      "Duration    0\n",
      "Pulse       0\n",
      "Maxpulse    0\n",
      "Calories    5\n",
      "dtype: int64\n",
      "\n",
      "After replacing nulls with mean:\n",
      "Duration    0\n",
      "Pulse       0\n",
      "Maxpulse    0\n",
      "Calories    0\n",
      "dtype: int64\n"
     ]
    }
   ],
   "source": [
    "# Check for null values in the dataset\n",
    "print(\"Null values in each column:\")\n",
    "print(df.isnull().sum())\n",
    "\n",
    "# Replace null values with the mean of each column\n",
    "df.fillna(df.mean(numeric_only=True), inplace=True)\n",
    "\n",
    "# Verify if nulls are replaced\n",
    "print(\"\\nAfter replacing nulls with mean:\")\n",
    "print(df.isnull().sum())\n"
   ]
  },
  {
   "cell_type": "code",
   "execution_count": 11,
   "id": "47f91d13-444b-454e-a98c-96bb34c4578b",
   "metadata": {},
   "outputs": [
    {
     "name": "stdout",
     "output_type": "stream",
     "text": [
      "            Pulse     Calories\n",
      "min     80.000000    50.300000\n",
      "max    159.000000  1860.400000\n",
      "count  169.000000   169.000000\n",
      "mean   107.461538   375.790244\n"
     ]
    }
   ],
   "source": [
    "# Select two columns and apply aggregation functions\n",
    "aggregated_data = df[['Pulse', 'Calories']].agg(['min', 'max', 'count', 'mean'])\n",
    "\n",
    "# Display the result\n",
    "print(aggregated_data)\n"
   ]
  },
  {
   "cell_type": "code",
   "execution_count": 12,
   "id": "702b72e7-a5af-4d0b-8421-ef01d4c5bc37",
   "metadata": {},
   "outputs": [
    {
     "name": "stdout",
     "output_type": "stream",
     "text": [
      "     Duration  Pulse  Maxpulse  Calories\n",
      "51         80    123       146     643.1\n",
      "62        160    109       135     853.0\n",
      "65        180     90       130     800.4\n",
      "66        150    105       135     873.4\n",
      "67        150    107       130     816.0\n",
      "72         90    100       127     700.0\n",
      "73        150     97       127     953.2\n",
      "75         90     98       125     563.2\n",
      "78        120    100       130     500.4\n",
      "83        120    100       130     500.0\n",
      "90        180    101       127     600.1\n",
      "99         90     93       124     604.1\n",
      "101        90     90       110     500.0\n",
      "102        90     90       100     500.0\n",
      "103        90     90       100     500.4\n",
      "106       180     90       120     800.3\n",
      "108        90     90       120     500.3\n"
     ]
    }
   ],
   "source": [
    "# Filter rows where Calories is between 500 and 1000\n",
    "filtered_df = df[(df['Calories'] >= 500) & (df['Calories'] <= 1000)]\n",
    "\n",
    "# Display the filtered DataFrame\n",
    "print(filtered_df)\n"
   ]
  },
  {
   "cell_type": "code",
   "execution_count": 13,
   "id": "5a419063-7487-44bc-8c61-2664fcbdacf7",
   "metadata": {},
   "outputs": [
    {
     "name": "stdout",
     "output_type": "stream",
     "text": [
      "     Duration  Pulse  Maxpulse  Calories\n",
      "65        180     90       130     800.4\n",
      "70        150     97       129    1115.0\n",
      "73        150     97       127     953.2\n",
      "75         90     98       125     563.2\n",
      "99         90     93       124     604.1\n",
      "103        90     90       100     500.4\n",
      "106       180     90       120     800.3\n",
      "108        90     90       120     500.3\n"
     ]
    }
   ],
   "source": [
    "# Filter rows where Calories > 500 and Pulse < 100\n",
    "filtered_df = df[(df['Calories'] > 500) & (df['Pulse'] < 100)]\n",
    "\n",
    "# Display the filtered DataFrame\n",
    "print(filtered_df)\n"
   ]
  },
  {
   "cell_type": "code",
   "execution_count": 14,
   "id": "f4d6d95a-2337-4d27-af25-2113f053cb68",
   "metadata": {},
   "outputs": [
    {
     "name": "stdout",
     "output_type": "stream",
     "text": [
      "   Duration  Pulse  Calories\n",
      "0        60    110     409.1\n",
      "1        60    117     479.0\n",
      "2        60    103     340.0\n",
      "3        45    109     282.4\n",
      "4        45    117     406.0\n"
     ]
    }
   ],
   "source": [
    "# Create a new DataFrame excluding the 'Maxpulse' column\n",
    "df_modified = df.drop(columns=['Maxpulse'])\n",
    "\n",
    "# Display the first 5 rows to verify\n",
    "print(df_modified.head())\n",
    "\n"
   ]
  },
  {
   "cell_type": "code",
   "execution_count": 15,
   "id": "cd737981-bf6a-4f56-859e-0ccf73e46fbd",
   "metadata": {},
   "outputs": [
    {
     "name": "stdout",
     "output_type": "stream",
     "text": [
      "   Duration  Pulse  Calories\n",
      "0        60    110     409.1\n",
      "1        60    117     479.0\n",
      "2        60    103     340.0\n",
      "3        45    109     282.4\n",
      "4        45    117     406.0\n"
     ]
    }
   ],
   "source": [
    "# Delete the 'Maxpulse' column from the original df\n",
    "df.drop(columns=['Maxpulse'], inplace=True)\n",
    "\n",
    "# Display the first 5 rows to confirm\n",
    "print(df.head())\n"
   ]
  },
  {
   "cell_type": "code",
   "execution_count": 16,
   "id": "d4839856-3068-4708-aeee-400948ba28f5",
   "metadata": {},
   "outputs": [
    {
     "name": "stdout",
     "output_type": "stream",
     "text": [
      "Duration    int64\n",
      "Pulse       int64\n",
      "Calories    int64\n",
      "dtype: object\n"
     ]
    }
   ],
   "source": [
    "# Convert 'Calories' column to integer type\n",
    "df['Calories'] = df['Calories'].astype(int)\n",
    "\n",
    "# Display the data types to confirm\n",
    "print(df.dtypes)\n"
   ]
  },
  {
   "cell_type": "code",
   "execution_count": 17,
   "id": "ce3b1d3e-9531-496c-8b1b-9223df118228",
   "metadata": {},
   "outputs": [
    {
     "data": {
      "image/png": "[encoded data removed]",
      "text/plain": [
       "<Figure size 640x480 with 1 Axes>"
      ]
     },
     "metadata": {},
     "output_type": "display_data"
    }
   ],
   "source": [
    "import matplotlib.pyplot as plt\n",
    "\n",
    "# Create a scatter plot\n",
    "df.plot(kind='scatter', x='Duration', y='Calories', title='Duration vs Calories')\n",
    "\n",
    "# Show the plot\n",
    "plt.xlabel('Duration (minutes)')\n",
    "plt.ylabel('Calories Burned')\n",
    "plt.grid(True)\n",
    "plt.show()\n"
   ]
  },
  {
   "cell_type": "code",
   "execution_count": null,
   "id": "d6bedd90-f59c-457e-9657-fa277bd0bd48",
   "metadata": {},
   "outputs": [],
   "source": []
  }
 ],
 "metadata": {
  "kernelspec": {
   "display_name": "Python 3 (ipykernel)",
   "language": "python",
   "name": "python3"
  },
  "language_info": {
   "codemirror_mode": {
    "name": "ipython",
    "version": 3
   },
   "file_extension": ".py",
   "mimetype": "text/x-python",
   "name": "python",
   "nbconvert_exporter": "python",
   "pygments_lexer": "ipython3",
   "version": "3.12.7"
  }
 },
 "nbformat": 4,
 "nbformat_minor": 5
}
